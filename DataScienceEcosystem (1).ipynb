{
 "cells": [
  {
   "cell_type": "markdown",
   "id": "dcb8f0a2-54ec-466a-8e51-e38dedb2a135",
   "metadata": {},
   "source": [
    "# Data Science Tools and Ecosystem\n"
   ]
  },
  {
   "cell_type": "markdown",
   "id": "cde005df-8487-4634-af53-b55aeb838152",
   "metadata": {},
   "source": [
    "In this notebook, Data Science Tools and Ecosystem are summarized.\n"
   ]
  },
  {
   "cell_type": "markdown",
   "id": "4c95ce47-1b1f-4364-ad41-5654850161d2",
   "metadata": {},
   "source": [
    "**Objectives:**\n",
    "- List popular languages for Data Science\n",
    "- Explore commonly used libraries in Data Science\n",
    "- Introduce development environments for Data Science"
   ]
  },
  {
   "cell_type": "markdown",
   "id": "4dd34ed7-73d1-49af-9eb3-fefb3fb1d62d",
   "metadata": {},
   "source": [
    "Some of the popular languages that Data Scientists use are:\n",
    "1. Pythone\n",
    "2. SQL\n",
    "3. R\n",
    "   "
   ]
  },
  {
   "cell_type": "markdown",
   "id": "061fd2b3-ccff-47cb-b844-a75f7c62a99c",
   "metadata": {},
   "source": [
    "Some of the commonly used libraries used by Data Scientists include:\n",
    "+ NumPy\n",
    "+ Pandas\n",
    "+ Matplotlip\n"
   ]
  },
  {
   "cell_type": "markdown",
   "id": "196764c4-834c-49b5-8fc9-711b08415a4c",
   "metadata": {},
   "source": [
    "|Data Science Tools|\n",
    "-------------------\n",
    "|Jupyter Notebook|\n",
    "|RStudio|\n",
    "|Apache Zeppelin|"
   ]
  },
  {
   "cell_type": "markdown",
   "id": "743ab747-e880-41fe-bfa0-4c81621cc8a3",
   "metadata": {},
   "source": [
    "### Below are a few examples of evaluating arithmetic expressions in Python"
   ]
  },
  {
   "cell_type": "code",
   "execution_count": 23,
   "id": "0facdaac-65ba-43a8-a4a2-9389c313791a",
   "metadata": {},
   "outputs": [
    {
     "data": {
      "text/plain": [
       "17"
      ]
     },
     "execution_count": 23,
     "metadata": {},
     "output_type": "execute_result"
    }
   ],
   "source": [
    "(3*4)+5\n",
    "#This a simple arithmetic expression to mutiply then add integers\n"
   ]
  },
  {
   "cell_type": "code",
   "execution_count": 25,
   "id": "397e1735-a18a-4b48-8e78-0a8ca4efd24e",
   "metadata": {},
   "outputs": [
    {
     "name": "stdout",
     "output_type": "stream",
     "text": [
      "3.3333333333333335\n"
     ]
    }
   ],
   "source": [
    "minutes=200\n",
    "hours=minutes/60\n",
    "print(hours) \n",
    "#This will convert 200 minutes to hours by diving by 60\n"
   ]
  },
  {
   "cell_type": "markdown",
   "id": "7a0c0fab-f35c-4d81-a3e4-e1fa563816d6",
   "metadata": {
    "jp-MarkdownHeadingCollapsed": true
   },
   "source": [
    "## Author\n",
    "DAVUT SEZGIN"
   ]
  },
  {
   "cell_type": "code",
   "execution_count": null,
   "id": "5a9ebcc1-8e86-49c9-8064-7b38d022a251",
   "metadata": {},
   "outputs": [],
   "source": []
  }
 ],
 "metadata": {
  "kernelspec": {
   "display_name": "Python 3 (ipykernel)",
   "language": "python",
   "name": "python3"
  },
  "language_info": {
   "codemirror_mode": {
    "name": "ipython",
    "version": 3
   },
   "file_extension": ".py",
   "mimetype": "text/x-python",
   "name": "python",
   "nbconvert_exporter": "python",
   "pygments_lexer": "ipython3",
   "version": "3.11.7"
  }
 },
 "nbformat": 4,
 "nbformat_minor": 5
}
